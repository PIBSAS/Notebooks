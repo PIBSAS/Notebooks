{
 "cells": [
  {
   "cell_type": "code",
   "execution_count": null,
   "id": "f685c645-f0d3-4e24-b2e2-954eb597e2c7",
   "metadata": {},
   "outputs": [],
   "source": [
    "%matplotlib widget \n",
    "# Si se quiere usar %matplotlib qt hay que instalar pip install PyQt6\n",
    "import matplotlib.pyplot as plt\n",
    "import numpy as np\n",
    "import matplotlib.animation as animation"
   ]
  },
  {
   "cell_type": "markdown",
   "id": "f09d72b9-5b0b-456d-85d9-33f1bf73f165",
   "metadata": {},
   "source": [
    "# Animación con FuncAnimation:\n",
    "\n",
    "``class matplotlib.animation.FuncAnimation(fig, func, frames=None, init_func=None, fargs=None, save_count=None, *, cache_frame_data=True, **kwargs)[source]\n",
    "``"
   ]
  },
  {
   "cell_type": "code",
   "execution_count": null,
   "id": "fa1644c9-40f3-4b84-84bc-34170f12c460",
   "metadata": {},
   "outputs": [],
   "source": [
    "fig, ax = plt.subplots()\n",
    "t = np.linspace(0, 3, 40)\n",
    "g = -9.81\n",
    "v0 = 12\n",
    "z = g * t**2 / 2 + v0 * t\n",
    "\n",
    "v02 = 5\n",
    "z2 = g * t**2 / 2 + v02 * t\n",
    "\n",
    "scat = ax.scatter(t[0], z[0], c=\"b\", s=5, label=f'v0 = {v0} m/s')\n",
    "line2 = ax.plot(t[0], z2[0], label=f'v0 = {v02} m/s')[0]\n",
    "ax.set(xlim=[0, 3], ylim=[-4, 10], xlabel='Time [s]', ylabel='Z [m]')\n",
    "ax.legend()\n",
    "\n",
    "\n",
    "def update(frame):\n",
    "    # for each frame, update the data stored on each artist.\n",
    "    x = t[:frame]\n",
    "    y = z[:frame]\n",
    "    # update the scatter plot:\n",
    "    data = np.stack([x, y]).T\n",
    "    scat.set_offsets(data)\n",
    "    # update the line plot:\n",
    "    line2.set_xdata(t[:frame])\n",
    "    line2.set_ydata(z2[:frame])\n",
    "    return (scat, line2)\n",
    "\n",
    "\n",
    "ani = animation.FuncAnimation(fig=fig, func=update, frames=40, interval=30)\n",
    "plt.show()"
   ]
  },
  {
   "cell_type": "markdown",
   "id": "12ef33ac-9592-4e6b-bbbf-aad840fafc2e",
   "metadata": {},
   "source": [
    "## Animación con ArtistAnimation\n",
    "\n",
    "``class matplotlib.animation.ArtistAnimation(fig, artists, *args, **kwargs)``"
   ]
  },
  {
   "cell_type": "code",
   "execution_count": null,
   "id": "cdd0401c-a6e1-4399-a5f7-e696efbbb0be",
   "metadata": {},
   "outputs": [],
   "source": [
    "fig, ax = plt.subplots()\n",
    "rng = np.random.default_rng(19680801)\n",
    "data = np.array([20, 20, 20, 20])\n",
    "x = np.array([1, 2, 3, 4])\n",
    "\n",
    "artists = []\n",
    "colors = ['tab:blue', 'tab:red', 'tab:green', 'tab:purple']\n",
    "\n",
    "for i in range(20):\n",
    "    data += rng.integers(low=0, high=10, size=data.shape)\n",
    "    container = ax.barh(x, data, color=colors)\n",
    "    artists.append(container)\n",
    "\n",
    "ani = animation.ArtistAnimation(fig=fig, artists=artists, interval=400)\n",
    "plt.show()"
   ]
  },
  {
   "cell_type": "markdown",
   "id": "bfe616f3-22e3-416b-a852-d29f8bac80df",
   "metadata": {},
   "source": [
    "# Plantilla\n",
    "### Grafico estilo grilla pero en ipywidget\n",
    "Se inserta todo el código de matplotlib en una función, exceptuando las variables aunque podrian estar dentro de la función, pero es común dejarlas afuera.\n",
    "\n",
    "#### Se agregan:\n",
    "\n",
    "``import ipywidgets as widgets``\n",
    "\n",
    "``from IPython.display import display``\n",
    "\n",
    "#### Ademas se realizan las siguientes diferencias:\n",
    "- ``fig = plt.figure(figsize=(12, 12), dpi=200, facecolor='w', edgecolor='k')`` pasa a ``fig, ax = plt.subplots(figsize=(12, 12), dpi=200, facecolor='w', edgecolor='k')`` y se elimina ``ax = plt.gca()``\n",
    "- ``fig.canvas.draw()`` pasa a ``ax.plot(x, y)``\n",
    "- como los sliders x_max e y_max se crean como widgets se cambian los limites(bound)\n",
    "- #### Crear sliders para ajustar los límites de los ejes\n",
    "    - ``x_max_slider = widgets.IntSlider(value=10, min=1, max=20, description='x max')``\n",
    "    - ``y_max_slider = widgets.IntSlider(value=10, min=1, max=20, description='y max')``\n",
    "- #### Llamar a la función de actualización cuando se cambian los valores de los sliders\n",
    "    - ``widgets.interactive(update_plot, x_max=x_max_slider, y_max=y_max_slider)``"
   ]
  },
  {
   "cell_type": "code",
   "execution_count": 2,
   "id": "69dcfb92-7d3c-45f8-accb-a72a9b1ad98e",
   "metadata": {},
   "outputs": [
    {
     "data": {
      "application/vnd.jupyter.widget-view+json": {
       "model_id": "bff38c1446694e2489e50c3a7dd72598",
       "version_major": 2,
       "version_minor": 0
      },
      "text/plain": [
       "interactive(children=(IntSlider(value=10, description='x max', max=20, min=1), IntSlider(value=10, description…"
      ]
     },
     "execution_count": 2,
     "metadata": {},
     "output_type": "execute_result"
    }
   ],
   "source": [
    "import matplotlib.pyplot as plt\n",
    "from matplotlib.ticker import MultipleLocator, FormatStrFormatter\n",
    "import numpy as np\n",
    "import ipywidgets as widgets\n",
    "from IPython.display import display\n",
    "\n",
    "_fontsize_legend = 10\n",
    "_fontsize = 15\n",
    "DP = 3\n",
    "\n",
    "# Datos a graficar: #\n",
    "\n",
    "def update_plot(x_max, y_max):\n",
    "    #plt.clf()  # Limpiar la figura actual\n",
    "    #fig = plt.figure(figsize=(12, 12), dpi=200, facecolor='w', edgecolor='k')\n",
    "    fig, ax = plt.subplots(figsize=(12, 12), dpi=200, facecolor='w', edgecolor='k') #ipywidget crea figure y axes en una linea y usa subplots()\n",
    "    #fig.canvas.draw() # ax.plot(x, y) es igual pero hace que se grafique en ipywidget\n",
    "    ax = plt.gca() #Desactivar cuando se tengan datos y usar ax.plot(x,y)\n",
    "    #ax.plot(x,y) # Con ipywidget es necesario!\n",
    "    ax.spines['left'].set_position('zero') # Eje izquierdo que pasa por cero (haciendo de eje y)\n",
    "    ax.spines['right'].set_color('none') # color del eje derecho se pone none\n",
    "    ax.spines['bottom'].set_position('zero') # Eje inferior que pasa por cero (haciendo de eje x)\n",
    "    ax.spines['top'].set_color('none') # color del eje superior se pone none\n",
    "    ax.xaxis.set_ticks_position('bottom') # Marcas de graduación debajo del eje x\n",
    "    ax.yaxis.set_ticks_position('left') # Marcas de graduación a la izqquierda del eje y\n",
    "    \n",
    "    ax.set_ybound(-1,y_max) # ax.set_xlim(-1, x_max) es igual, para aprovechar ipywidgets se cambio 10 por y_max\n",
    "    ax.set_xbound(-1,x_max) # ax.set_ylim(-1, y_max) es igual\n",
    "    \n",
    "    ax.xaxis.set_major_locator(MultipleLocator(1)) # ax.xaxis.set_major_locator(plt.MultipleLocator(1)) con ipywidgets difiere por que no se importo MultipleLocator entonces se lo llama con plt.Multiplicator\n",
    "    ax.yaxis.set_major_locator(MultipleLocator(1))\n",
    "    \n",
    "    ax.xaxis.grid(True,'major',linewidth=2/DP,linestyle='-',color='#d7d7d7',zorder=0) # ax.xaxis.grid(True, 'major', linewidth=2/3, linestyle='-', color='#d7d7d7', zorder=0) es igual no usa la variable DP con ipywidget\n",
    "    ax.yaxis.grid(True,'major',linewidth=2/DP,linestyle='-',color='#d7d7d7')\n",
    "    ax.xaxis.set_minor_locator(MultipleLocator( (1) / 10 ))\n",
    "    ax.yaxis.set_minor_locator(MultipleLocator( (1) / 10 ))\n",
    "    ax.xaxis.grid(True,'minor',linewidth=0.5/DP,linestyle='-',color='#d7d7d7') # Verticales cada 1 division(mm) en el eje x\n",
    "    # ax.xaxis.grid(True, 'minor', linewidth=0.5/3, linestyle='-', color='#d7d7d7', zorder=0) con ipywidgets no usa DP y agrega zorder \n",
    "    ax.yaxis.grid(True,'minor',linewidth=0.5/DP,linestyle='-',color='#d7d7d7') # horizontales cada 1 división(mm) en el eje y\n",
    "    \n",
    "    ax.set_axisbelow(True) # Mandar al fondo a las grillas\n",
    "    ax.set_aspect('equal') # Asegura que la distancia entre los ticks y la   grafica se mantengan iguales en ambos ejes\n",
    "    # ax.xaxis.set_major_formatter(plt.FormatStrFormatter('%i')) con ipywidgets \n",
    "    ax.xaxis.set_major_formatter(FormatStrFormatter('%i')) # Formateador entero para eje x\n",
    "    xticks = ax.xaxis.get_major_ticks() # Obtener la lista de ticks en eje x para poder iterar con for\n",
    "    for i,l in enumerate(xticks):\n",
    "        if not (i - 1) % 4 == 0: # Hace que el numero pueda ser visible cada 4\n",
    "            xticks[i].label1.set_visible(True) # True para que muestre cada digito\n",
    "        else:\n",
    "            xticks[i].label1.set_fontsize(_fontsize)\n",
    "    \n",
    "    ax.yaxis.set_major_formatter(FormatStrFormatter('%i')) # Formateador entero para eje y\n",
    "    yticks = ax.yaxis.get_major_ticks() # Obtener la lista de ticks en eje y para poder iterar con for\n",
    "    for i,l in enumerate(yticks):\n",
    "        if not (i - 1) % 4 == 0:\n",
    "            yticks[i].label1.set_visible(True)\n",
    "        else:\n",
    "            yticks[i].label1.set_fontsize(_fontsize)\n",
    "\n",
    "# Crear sliders para ajustar los límites de los ejes\n",
    "x_max_slider = widgets.IntSlider(value=10, min=1, max=20, description='x max')\n",
    "y_max_slider = widgets.IntSlider(value=10, min=1, max=20, description='y max')\n",
    "\n",
    "\n",
    "# Llamar a la función de actualización cuando se cambian los valores de los sliders\n",
    "widgets.interactive(update_plot, x_max=x_max_slider, y_max=y_max_slider)"
   ]
  },
  {
   "cell_type": "code",
   "execution_count": null,
   "id": "7df9d6ff-c327-44da-b166-d8fe6c5966de",
   "metadata": {},
   "outputs": [],
   "source": []
  }
 ],
 "metadata": {
  "kernelspec": {
   "display_name": "Python 3 (ipykernel)",
   "language": "python",
   "name": "python3"
  },
  "language_info": {
   "codemirror_mode": {
    "name": "ipython",
    "version": 3
   },
   "file_extension": ".py",
   "mimetype": "text/x-python",
   "name": "python",
   "nbconvert_exporter": "python",
   "pygments_lexer": "ipython3",
   "version": "3.12.1"
  }
 },
 "nbformat": 4,
 "nbformat_minor": 5
}
