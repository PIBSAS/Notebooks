{
 "cells": [
  {
   "cell_type": "code",
   "execution_count": null,
   "id": "68a3c630-0bfa-46ad-86b0-2393423fef9e",
   "metadata": {},
   "outputs": [
    {
     "name": "stdout",
     "output_type": "stream",
     "text": [
      "Requirement already satisfied: sympy in c:\\users\\black\\.env\\lib\\site-packages (1.12)\n",
      "Requirement already satisfied: mpmath>=0.19 in c:\\users\\black\\.env\\lib\\site-packages (from sympy) (1.3.0)\n"
     ]
    }
   ],
   "source": [
    "!pip install -U sympy\n",
    "!pip install -U pyglet"
   ]
  },
  {
   "cell_type": "code",
   "execution_count": 1,
   "id": "81744e67-d6dc-4267-9a0f-fd43fdc16526",
   "metadata": {},
   "outputs": [],
   "source": [
    "import sympy,pyglet"
   ]
  },
  {
   "cell_type": "raw",
   "id": "6682bb97-d583-42a2-8b60-250fee0d4f8c",
   "metadata": {},
   "source": [
    "preview(Integral(cos(x)))"
   ]
  },
  {
   "cell_type": "code",
   "execution_count": 2,
   "id": "ab14d90f-2ab0-451a-9059-06b5799c1149",
   "metadata": {},
   "outputs": [
    {
     "ename": "NameError",
     "evalue": "name 'preview' is not defined",
     "output_type": "error",
     "traceback": [
      "\u001b[1;31m---------------------------------------------------------------------------\u001b[0m",
      "\u001b[1;31mNameError\u001b[0m                                 Traceback (most recent call last)",
      "Cell \u001b[1;32mIn[2], line 1\u001b[0m\n\u001b[1;32m----> 1\u001b[0m \u001b[43mpreview\u001b[49m(sin(x), output\u001b[38;5;241m=\u001b[39m\u001b[38;5;124m'\u001b[39m\u001b[38;5;124mpng\u001b[39m\u001b[38;5;124m'\u001b[39m)\n",
      "\u001b[1;31mNameError\u001b[0m: name 'preview' is not defined"
     ]
    }
   ],
   "source": [
    "preview(sin(x), output='png')"
   ]
  },
  {
   "cell_type": "code",
   "execution_count": 3,
   "id": "69b2f62f-48db-4831-b344-02e841e0b17f",
   "metadata": {},
   "outputs": [],
   "source": [
    "from sympy import *\n",
    "x,y,z,f,g=symbols('x y z f g')\n",
    "init_printing()"
   ]
  },
  {
   "cell_type": "code",
   "execution_count": 4,
   "id": "ecdc7e09-ebc2-411e-9951-100d20a45931",
   "metadata": {},
   "outputs": [
    {
     "data": {
      "image/png": "[encoded data removed]",
      "text/latex": [
       "$\\displaystyle \\int\\limits_{0}^{5} \\left(x^{2} + 3 x - 3\\right)\\, df$"
      ],
      "text/plain": [
       "5                  \n",
       "⌠                  \n",
       "⎮ ⎛ 2          ⎞   \n",
       "⎮ ⎝x  + 3⋅x - 3⎠ df\n",
       "⌡                  \n",
       "0                  "
      ]
     },
     "execution_count": 4,
     "metadata": {},
     "output_type": "execute_result"
    }
   ],
   "source": [
    "Integral(x**2+3*x-3,(f,0,5))"
   ]
  },
  {
   "cell_type": "code",
   "execution_count": 5,
   "id": "ac2396c2-65d3-42b9-bf34-608976c751fb",
   "metadata": {},
   "outputs": [
    {
     "data": {
      "text/plain": [
       "'\\\\int x\\\\, dx'"
      ]
     },
     "execution_count": 5,
     "metadata": {},
     "output_type": "execute_result"
    }
   ],
   "source": [
    "latex(Integral(x))"
   ]
  },
  {
   "cell_type": "code",
   "execution_count": null,
   "id": "196c1484-4106-4554-9382-7029d157cdc8",
   "metadata": {},
   "outputs": [],
   "source": []
  }
 ],
 "metadata": {
  "kernelspec": {
   "display_name": "Python 3 (ipykernel)",
   "language": "python",
   "name": "python3"
  },
  "language_info": {
   "codemirror_mode": {
    "name": "ipython",
    "version": 3
   },
   "file_extension": ".py",
   "mimetype": "text/x-python",
   "name": "python",
   "nbconvert_exporter": "python",
   "pygments_lexer": "ipython3",
   "version": "3.12.2"
  }
 },
 "nbformat": 4,
 "nbformat_minor": 5
}
